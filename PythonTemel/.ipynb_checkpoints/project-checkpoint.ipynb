{
 "cells": [
  {
   "cell_type": "markdown",
   "id": "controlled-riding",
   "metadata": {},
   "source": [
    "**1- Bir listeyi düzleştiren (flatten) fonksiyon yazın. Elemanları birden çok katmanlı listtlerden ([[3],2] gibi) oluşabileceği gibi, non-scalar verilerden de oluşabilir. Örnek olarak:**\n",
    "\n",
    "input: [[1,'a',['cat'],2],[[[3]],'dog'],4,5]\n",
    "\n",
    "output: [1,'a','cat',2,3,'dog',4,5]"
   ]
  },
  {
   "cell_type": "code",
   "execution_count": 11,
   "id": "suspected-mambo",
   "metadata": {},
   "outputs": [],
   "source": [
    "l = [[1,'a',['cat'],2],[[[3]],'dog'],4,5]"
   ]
  },
  {
   "cell_type": "code",
   "execution_count": 12,
   "id": "proper-announcement",
   "metadata": {},
   "outputs": [],
   "source": [
    "flattened = []\n",
    "\n",
    "def flatten(l):\n",
    "    for el in l:\n",
    "        if type(el) is list:\n",
    "            flatten(el)\n",
    "        else:\n",
    "            flattened.append(el)\n",
    "    return flattened"
   ]
  },
  {
   "cell_type": "code",
   "execution_count": 13,
   "id": "starting-sleeping",
   "metadata": {},
   "outputs": [
    {
     "data": {
      "text/plain": [
       "[1, 'a', 'cat', 2, 3, 'dog', 4, 5]"
      ]
     },
     "execution_count": 13,
     "metadata": {},
     "output_type": "execute_result"
    }
   ],
   "source": [
    "flatten(l)"
   ]
  },
  {
   "cell_type": "markdown",
   "id": "interesting-healing",
   "metadata": {},
   "source": [
    "**2- Verilen listenin içindeki elemanları tersine döndüren bir fonksiyon yazın. Eğer listenin içindeki elemanlar da liste içeriyorsa onların elemanlarını da tersine döndürün. Örnek olarak:**\n",
    "\n",
    "input: [[1, 2], [3, 4], [5, 6, 7]]\n",
    "\n",
    "output: [[[7, 6, 5], [4, 3], [2, 1]]\n",
    "\n"
   ]
  },
  {
   "cell_type": "code",
   "execution_count": 17,
   "id": "swedish-dispute",
   "metadata": {},
   "outputs": [],
   "source": [
    "l = [[1, 2], [3, 4], [5, 6, 7]]"
   ]
  },
  {
   "cell_type": "code",
   "execution_count": 16,
   "id": "outer-french",
   "metadata": {},
   "outputs": [
    {
     "data": {
      "text/plain": [
       "[[7, 6, 5], [4, 3], [2, 1]]"
      ]
     },
     "execution_count": 16,
     "metadata": {},
     "output_type": "execute_result"
    }
   ],
   "source": [
    "[e[::-1] if type(e) is list else e for e in l[::-1]]"
   ]
  },
  {
   "cell_type": "code",
   "execution_count": null,
   "id": "numeric-kennedy",
   "metadata": {},
   "outputs": [],
   "source": []
  }
 ],
 "metadata": {
  "kernelspec": {
   "display_name": "Python 3",
   "language": "python",
   "name": "python3"
  },
  "language_info": {
   "codemirror_mode": {
    "name": "ipython",
    "version": 3
   },
   "file_extension": ".py",
   "mimetype": "text/x-python",
   "name": "python",
   "nbconvert_exporter": "python",
   "pygments_lexer": "ipython3",
   "version": "3.8.0"
  }
 },
 "nbformat": 4,
 "nbformat_minor": 5
}
